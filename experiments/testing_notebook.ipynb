{
 "cells": [
  {
   "cell_type": "code",
   "execution_count": 1,
   "metadata": {},
   "outputs": [
    {
     "data": {
      "text/plain": [
       "True"
      ]
     },
     "execution_count": 1,
     "metadata": {},
     "output_type": "execute_result"
    }
   ],
   "source": [
    "import streamlit as st\n",
    "from langchain_core.messages import AIMessage, HumanMessage\n",
    "from langchain_openai import ChatOpenAI\n",
    "from dotenv import load_dotenv\n",
    "from langchain_core.output_parsers import StrOutputParser\n",
    "from langchain_core.prompts import ChatPromptTemplate\n",
    "from langchain_anthropic import ChatAnthropic\n",
    "from langchain_mistralai.chat_models import ChatMistralAI\n",
    "\n",
    "load_dotenv()"
   ]
  },
  {
   "cell_type": "code",
   "execution_count": 2,
   "metadata": {},
   "outputs": [],
   "source": [
    "chat_history=[]\n",
    "user_query=\"Tell me about the history of the United States of America. In 100 words or less\""
   ]
  },
  {
   "cell_type": "code",
   "execution_count": 4,
   "metadata": {},
   "outputs": [
    {
     "data": {
      "text/plain": [
       "'The United States of America was founded in 1776, gaining independence from Britain. It has since grown into a world superpower, marked by historical events such as the Civil War, westward expansion, industrialization, and the civil rights movement.'"
      ]
     },
     "execution_count": 4,
     "metadata": {},
     "output_type": "execute_result"
    }
   ],
   "source": [
    "template = \"\"\"\n",
    "You are a helpful assistant. Answer the following questions considering the history of the conversation:\n",
    "\n",
    "Chat history: {chat_history}\n",
    "\n",
    "User question: {user_question}\n",
    "Keep response short, in 20 words.\n",
    "\"\"\"\n",
    "\n",
    "prompt = ChatPromptTemplate.from_template(template)\n",
    "#https://docs.mistral.ai/platform/pricing/#pay-as-you-go\n",
    "llm = ChatMistralAI(model_name=\"open-mistral-7b\")\n",
    "chain = prompt | llm | StrOutputParser()\n",
    "\n",
    "# Stream response\n",
    "response_generator = chain.invoke({\n",
    "    \"chat_history\": chat_history,\n",
    "    \"user_question\": user_query,\n",
    "})\n",
    "response_generator"
   ]
  },
  {
   "cell_type": "code",
   "execution_count": 22,
   "metadata": {},
   "outputs": [
    {
     "data": {
      "text/plain": [
       "'The United States has a rich history spanning over 200 years, from the American Revolution to becoming a global superpower.'"
      ]
     },
     "execution_count": 22,
     "metadata": {},
     "output_type": "execute_result"
    }
   ],
   "source": [
    "template = \"\"\"\n",
    "You are a helpful assistant. Answer the following questions considering the history of the conversation:\n",
    "\n",
    "Chat history: {chat_history}\n",
    "\n",
    "User question: {user_question}\n",
    "Keep response short, in 20 words.\n",
    "\"\"\"\n",
    "\n",
    "prompt = ChatPromptTemplate.from_template(template)\n",
    "llm = ChatAnthropic(model_name=\"claude-3-sonnet-20240229\") #claude-3-sonnet-20240229, claude-3-opus-20240229, claude-3-haiku-20240229\n",
    "chain = prompt | llm | StrOutputParser()\n",
    "\n",
    "# Stream response\n",
    "response_generator = chain.invoke({\n",
    "    \"chat_history\": chat_history,\n",
    "    \"user_question\": user_query,\n",
    "})\n",
    "response_generator"
   ]
  },
  {
   "cell_type": "code",
   "execution_count": 3,
   "metadata": {},
   "outputs": [],
   "source": [
    "template = \"\"\"\n",
    "You are a helpful assistant. Answer the following questions considering the history of the conversation:\n",
    "\n",
    "Chat history: {chat_history}\n",
    "\n",
    "User question: {user_question}\n",
    "\"\"\"\n",
    "\n",
    "prompt = ChatPromptTemplate.from_template(template)\n",
    "\n",
    "llm = ChatOpenAI()\n",
    "    \n",
    "# chain = prompt | model | output_parser\n",
    "chain = prompt | llm | StrOutputParser()\n",
    "\n",
    "response=chain.invoke({\n",
    "    \"chat_history\": chat_history,\n",
    "    \"user_question\": user_query,\n",
    "})\n"
   ]
  },
  {
   "cell_type": "code",
   "execution_count": 17,
   "metadata": {},
   "outputs": [
    {
     "data": {
      "text/plain": [
       "'The history of the United States of America dates back to the arrival of European settlers in the 16th century, leading to colonization and the establishment of the thirteen colonies. The American Revolution in the late 18th century resulted in independence from British rule and the creation of the United States as a democratic republic. The nation expanded westward through territorial acquisitions and the Louisiana Purchase, leading to conflicts with Native Americans and the Civil War over slavery. Industrialization, immigration, and global conflicts shaped the country in the 19th and 20th centuries, making it a prominent world power.'"
      ]
     },
     "execution_count": 17,
     "metadata": {},
     "output_type": "execute_result"
    }
   ],
   "source": [
    "response\n"
   ]
  },
  {
   "cell_type": "code",
   "execution_count": null,
   "metadata": {},
   "outputs": [],
   "source": []
  }
 ],
 "metadata": {
  "kernelspec": {
   "display_name": "llm",
   "language": "python",
   "name": "python3"
  },
  "language_info": {
   "codemirror_mode": {
    "name": "ipython",
    "version": 3
   },
   "file_extension": ".py",
   "mimetype": "text/x-python",
   "name": "python",
   "nbconvert_exporter": "python",
   "pygments_lexer": "ipython3",
   "version": "3.10.13"
  }
 },
 "nbformat": 4,
 "nbformat_minor": 2
}
